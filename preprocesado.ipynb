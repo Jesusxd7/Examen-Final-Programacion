{
  "nbformat": 4,
  "nbformat_minor": 0,
  "metadata": {
    "colab": {
      "provenance": []
    },
    "kernelspec": {
      "name": "python3",
      "display_name": "Python 3"
    },
    "language_info": {
      "name": "python"
    }
  },
  "cells": [
    {
      "cell_type": "code",
      "execution_count": null,
      "metadata": {
        "id": "T2UuEqa5lgYg"
      },
      "outputs": [],
      "source": [
        "from sklearn.impute import SimpleImputer\n",
        "from sklearn.preprocessing import StandardScaler, LabelEncoder\n",
        "\n",
        "# Cargar datos\n",
        "df = pd.read_csv(\"06 - dataset.csv\")\n",
        "\n",
        "# Imputar valores numéricos\n",
        "num_cols = df.select_dtypes(include=['float64', 'int64']).columns\n",
        "imp = SimpleImputer(strategy='mean')\n",
        "df[num_cols] = imp.fit_transform(df[num_cols])\n",
        "\n",
        "# Codificar variables categóricas\n",
        "df['sexo'] = LabelEncoder().fit_transform(df['sexo'])\n",
        "df['nivel_conciencia'] = LabelEncoder().fit_transform(df['nivel_conciencia'])\n",
        "\n",
        "# Escalar numéricos\n",
        "scaler = StandardScaler()\n",
        "df[num_cols] = scaler.fit_transform(df[num_cols])\n",
        "\n",
        "# Guardar preprocesado\n",
        "df.to_csv(\"06 - dataset.csv\", index=False)\n",
        "print(\"Preprocesamiento completo.\")\n"
      ]
    }
  ]
}