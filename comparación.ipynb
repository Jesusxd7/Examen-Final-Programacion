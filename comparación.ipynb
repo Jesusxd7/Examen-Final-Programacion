{
  "nbformat": 4,
  "nbformat_minor": 0,
  "metadata": {
    "colab": {
      "provenance": []
    },
    "kernelspec": {
      "name": "python3",
      "display_name": "Python 3"
    },
    "language_info": {
      "name": "python"
    }
  },
  "cells": [
    {
      "cell_type": "code",
      "execution_count": null,
      "metadata": {
        "id": "iK0XLu8kmJL5"
      },
      "outputs": [],
      "source": [
        "from sklearn.metrics import roc_auc_score\n",
        "\n",
        "roc1 = roc_auc_score(y_test, model.predict_proba(X_test)[:, 1])\n",
        "roc2 = roc_auc_score(y_test, model2.predict_proba(X_test)[:, 1])\n",
        "\n",
        "print(f\"ROC AUC Random Forest: {roc1}\")\n",
        "print(f\"ROC AUC Logistic Regression: {roc2}\")\n",
        "\n",
        "if roc1 > roc2:\n",
        "    print(\"Random Forest tuvo mejor desempeño.\")\n",
        "else:\n",
        "    print(\"Regresión logística tuvo mejor desempeño.\")\n"
      ]
    }
  ]
}