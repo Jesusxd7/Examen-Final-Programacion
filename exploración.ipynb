{
  "nbformat": 4,
  "nbformat_minor": 0,
  "metadata": {
    "colab": {
      "provenance": []
    },
    "kernelspec": {
      "name": "python3",
      "display_name": "Python 3"
    },
    "language_info": {
      "name": "python"
    }
  },
  "cells": [
    {
      "cell_type": "code",
      "execution_count": null,
      "metadata": {
        "id": "JughE0cYlBcK"
      },
      "outputs": [],
      "source": [
        "import pandas as pd\n",
        "import matplotlib.pyplot as plt\n",
        "import seaborn as sns\n",
        "\n",
        "# Cargar datos\n",
        "df = pd.read_csv(\"06 - dataset.csv\")\n",
        "\n",
        "# Primeras filas\n",
        "print(df.head())\n",
        "\n",
        "# Información general\n",
        "print(df.info())\n",
        "\n",
        "# Estadísticas descriptivas\n",
        "print(df.describe(include='all'))\n",
        "\n",
        "# Conteo de valores faltantes\n",
        "print(df.isnull().sum())\n",
        "\n",
        "# Histograma de edad\n",
        "plt.hist(df['edad'].dropna(), bins=30, edgecolor='black')\n",
        "plt.title(\"Distribución de la edad\")\n",
        "plt.xlabel(\"Edad\")\n",
        "plt.ylabel(\"Frecuencia\")\n",
        "plt.show()\n",
        "\n",
        "# Mapa de calor de correlación\n",
        "plt.figure(figsize=(10,8))\n",
        "sns.heatmap(df.corr(numeric_only=True), annot=True, cmap='coolwarm')\n",
        "plt.title(\"Matriz de correlación\")\n",
        "plt.show()\n"
      ]
    }
  ]
}